{
  "nbformat": 4,
  "nbformat_minor": 0,
  "metadata": {
    "accelerator": "GPU",
    "colab": {
      "name": "Copy of everything.ipynb",
      "provenance": [],
      "collapsed_sections": [],
      "history_visible": true,
      "include_colab_link": true
    },
    "kernelspec": {
      "display_name": "Python 3",
      "name": "python3"
    },
    "language_info": {
      "name": "python"
    }
  },
  "cells": [
    {
      "cell_type": "markdown",
      "metadata": {
        "id": "view-in-github",
        "colab_type": "text"
      },
      "source": [
        "<a href=\"https://colab.research.google.com/github/Swagget/DeepVideoDeblurring/blob/master/Copy_of_everything.ipynb\" target=\"_parent\"><img src=\"https://colab.research.google.com/assets/colab-badge.svg\" alt=\"Open In Colab\"/></a>"
      ]
    },
    {
      "cell_type": "code",
      "metadata": {
        "colab": {
          "base_uri": "https://localhost:8080/"
        },
        "id": "-kRMnUpWSfLc",
        "outputId": "159dd4c8-5032-4c3c-914b-89ce3d883814"
      },
      "source": [
        "from google.colab import drive\n",
        "drive.mount('/content/gdrive', force_remount=True)"
      ],
      "execution_count": 1,
      "outputs": [
        {
          "output_type": "stream",
          "name": "stdout",
          "text": [
            "Mounted at /content/gdrive\n"
          ]
        }
      ]
    },
    {
      "cell_type": "code",
      "metadata": {
        "colab": {
          "base_uri": "https://localhost:8080/"
        },
        "id": "qGeWVFcTanYo",
        "outputId": "9febaa92-3b7a-464f-dca4-b5ab0a330917"
      },
      "source": [
        "%ls"
      ],
      "execution_count": 2,
      "outputs": [
        {
          "output_type": "stream",
          "name": "stdout",
          "text": [
            "\u001b[0m\u001b[01;34mgdrive\u001b[0m/  \u001b[01;34msample_data\u001b[0m/\n"
          ]
        }
      ]
    },
    {
      "cell_type": "code",
      "metadata": {
        "id": "pw5A_mEjTlsJ"
      },
      "source": [
        "#  = \"gdrive/Shareddrives/CV_project/DeepVideoDeblurring_Dataset/quantitative_datasets\"\n",
        "current_dataset = \"gdrive/Shareddrives/CV_project/DeepDeblur-PyTorch-master/Research/GOPRO_Large/test/GOPR0384_11_00.zip\""
      ],
      "execution_count": 3,
      "outputs": []
    },
    {
      "cell_type": "code",
      "metadata": {
        "id": "RovU08VBbvGT"
      },
      "source": [
        "def python_move():\n",
        "  %cd gdrive/Shareddrives/CV_project/DeepDeblur-PyTorch-master"
      ],
      "execution_count": 4,
      "outputs": []
    },
    {
      "cell_type": "code",
      "metadata": {
        "colab": {
          "base_uri": "https://localhost:8080/"
        },
        "id": "zsKPsdRlb1cq",
        "outputId": "bec516d5-b946-4b7b-a68f-d5460a2f260a"
      },
      "source": [
        "python_move()"
      ],
      "execution_count": 5,
      "outputs": [
        {
          "output_type": "stream",
          "name": "stdout",
          "text": [
            "/content/gdrive/Shareddrives/CV_project/DeepDeblur-PyTorch-master\n"
          ]
        }
      ]
    },
    {
      "cell_type": "code",
      "metadata": {
        "colab": {
          "base_uri": "https://localhost:8080/"
        },
        "id": "ab4NdOQ6b3gP",
        "outputId": "f57b24fc-6150-471f-ee3c-02f7077c81d8"
      },
      "source": [
        "!ls"
      ],
      "execution_count": 6,
      "outputs": [
        {
          "output_type": "stream",
          "name": "stdout",
          "text": [
            "'CV Project Report.gdoc'   everything.ipynb   Research\t src\n"
          ]
        }
      ]
    },
    {
      "cell_type": "code",
      "metadata": {
        "colab": {
          "base_uri": "https://localhost:8080/"
        },
        "id": "Nrspm7CUZdWx",
        "outputId": "67aab507-bb81-4bdd-c0a9-2e00a760b98a"
      },
      "source": [
        "print(\"current_dataset : \", current_dataset)"
      ],
      "execution_count": 7,
      "outputs": [
        {
          "output_type": "stream",
          "name": "stdout",
          "text": [
            "current_dataset :  gdrive/Shareddrives/CV_project/DeepDeblur-PyTorch-master/Research/GOPRO_Large/test/GOPR0384_11_00.zip\n"
          ]
        }
      ]
    },
    {
      "cell_type": "code",
      "metadata": {
        "id": "8vsmpxwHZBAj"
      },
      "source": [
        "# !unzip \"gdrive/Shareddrives/CV_project/DeepDeblur-PyTorch-master/Research/GOPRO_Large/test/GOPR0384_11_00.zip\" -d \"gdrive/Shareddrives/CV_project/DeepDeblur-PyTorch-master/Research/GOPRO_Large/test/GOPR0384_11_00/\""
      ],
      "execution_count": 8,
      "outputs": []
    },
    {
      "cell_type": "code",
      "metadata": {
        "colab": {
          "base_uri": "https://localhost:8080/"
        },
        "id": "SJFX91K4a-x6",
        "outputId": "c5629eda-4ef2-464f-d6fd-94274f5282a7"
      },
      "source": [
        "!python ./src/main.py --save_dir GOPRO_L1 --demo true --demo_input_dir ./Research/dataset/GOPRO_Large/test/GOPR0384_11_00/blur_gamma \n",
        "# This has the loss error which shows that training is happening. We need to only to evaluation first."
      ],
      "execution_count": 9,
      "outputs": [
        {
          "output_type": "stream",
          "name": "stdout",
          "text": [
            "/usr/local/lib/python3.7/dist-packages/torch/utils/data/dataloader.py:481: UserWarning: This DataLoader will create 7 worker processes in total. Our suggested max number of worker in current system is 2, which is smaller than what this DataLoader is going to create. Please be aware that excessive worker creation might get DataLoader running slow or even freeze, lower the worker number to avoid potential slowness/freeze if necessary.\n",
            "  cpuset_checked))\n",
            "===> Loading demo dataset: Demo\n",
            "Loading model from ../experiment/GOPRO_L1/models/model-1000.pt\n",
            "Loading optimizer from ../experiment/GOPRO_L1/optim/optim-1000.pt\n",
            "Loss function: 1*L1\n",
            "Metrics: PSNR,SSIM\n",
            "Loading loss record from ../experiment/GOPRO_L1/loss.pt\n",
            "===> Initializing trainer\n",
            "results are saved in ../experiment/GOPRO_L1/result\n",
            "|                                                         | 0/0 [00:00<?, ?it/s]\n",
            "Traceback (most recent call last):\n",
            "  File \"./src/main.py\", line 67, in <module>\n",
            "    main()\n",
            "  File \"./src/main.py\", line 64, in main\n",
            "    main_worker(args.rank, args)\n",
            "  File \"./src/main.py\", line 29, in main_worker\n",
            "    trainer.evaluate(epoch=args.start_epoch, mode='demo')\n",
            "  File \"/content/gdrive/Shareddrives/CV_project/DeepDeblur-PyTorch-master/src/train.py\", line 182, in evaluate\n",
            "    tq.set_description(self.criterion.get_loss_desc())\n",
            "  File \"/content/gdrive/Shareddrives/CV_project/DeepDeblur-PyTorch-master/src/loss/__init__.py\", line 311, in get_loss_desc\n",
            "    loss = self.loss_stat[self.mode]['Total'][self.epoch]\n",
            "KeyError: 1001\n"
          ]
        }
      ]
    },
    {
      "cell_type": "code",
      "metadata": {
        "colab": {
          "base_uri": "https://localhost:8080/"
        },
        "id": "yLefBMy0blX6",
        "outputId": "7b048ec8-1e1e-4326-c085-caf3faaa9118"
      },
      "source": [
        "!python src/main.py --save_dir GOPRO_L1 --do_train false --do_test true --save_results all --dataset GOPRO_Large"
      ],
      "execution_count": 10,
      "outputs": [
        {
          "output_type": "stream",
          "name": "stdout",
          "text": [
            "/usr/local/lib/python3.7/dist-packages/torch/utils/data/dataloader.py:481: UserWarning: This DataLoader will create 7 worker processes in total. Our suggested max number of worker in current system is 2, which is smaller than what this DataLoader is going to create. Please be aware that excessive worker creation might get DataLoader running slow or even freeze, lower the worker number to avoid potential slowness/freeze if necessary.\n",
            "  cpuset_checked))\n",
            "===> Loading test dataset: GOPRO_Large\n",
            "Loading model from ../experiment/GOPRO_L1/models/model-1000.pt\n",
            "Loading optimizer from ../experiment/GOPRO_L1/optim/optim-1000.pt\n",
            "Loss function: 1*L1\n",
            "Metrics: PSNR,SSIM\n",
            "Loading loss record from ../experiment/GOPRO_L1/loss.pt\n",
            "===> Initializing trainer\n",
            "results are saved in ../experiment/GOPRO_L1/result\n"
          ]
        }
      ]
    },
    {
      "cell_type": "code",
      "metadata": {
        "colab": {
          "base_uri": "https://localhost:8080/"
        },
        "id": "kcsjaLfUnm6U",
        "outputId": "4c3dc610-0015-41c3-ec90-ddc93fbbfc88"
      },
      "source": [
        "!python src/main.py --save_dir GOPRO_L1 --do_train false --do_test true --save_result all --dataset GOPRO_Large --load_epoch 1000 --start_epoch 1000 --end_epoch 1000\n"
      ],
      "execution_count": 11,
      "outputs": [
        {
          "output_type": "stream",
          "name": "stdout",
          "text": [
            "/usr/local/lib/python3.7/dist-packages/torch/utils/data/dataloader.py:481: UserWarning: This DataLoader will create 7 worker processes in total. Our suggested max number of worker in current system is 2, which is smaller than what this DataLoader is going to create. Please be aware that excessive worker creation might get DataLoader running slow or even freeze, lower the worker number to avoid potential slowness/freeze if necessary.\n",
            "  cpuset_checked))\n",
            "===> Loading test dataset: GOPRO_Large\n",
            "Loading model from ../experiment/GOPRO_L1/models/model-1000.pt\n",
            "Loading optimizer from ../experiment/GOPRO_L1/optim/optim-1000.pt\n",
            "Loss function: 1*L1\n",
            "Metrics: PSNR,SSIM\n",
            "Loading loss record from ../experiment/GOPRO_L1/loss.pt\n",
            "===> Initializing trainer\n",
            "results are saved in ../experiment/GOPRO_L1/result\n",
            "|                                                         | 0/0 [00:00<?, ?it/s]\n",
            "Test Loss: 12.2 PSNR: 30.40 SSIM: 0.9017: |               | 0/0 [00:00<?, ?it/s]\n",
            "\n"
          ]
        }
      ]
    },
    {
      "cell_type": "code",
      "metadata": {
        "colab": {
          "base_uri": "https://localhost:8080/"
        },
        "id": "FZik0xUkpHwz",
        "outputId": "6db64dda-93b5-48bf-e4df-73017ea00a05"
      },
      "source": [
        "!ls Research/"
      ],
      "execution_count": 12,
      "outputs": [
        {
          "output_type": "stream",
          "name": "stdout",
          "text": [
            "GOPRO_Large\n"
          ]
        }
      ]
    },
    {
      "cell_type": "code",
      "metadata": {
        "id": "QfqDYF6FrRTn",
        "colab": {
          "base_uri": "https://localhost:8080/"
        },
        "outputId": "f18d0bb0-88a3-446d-cf9a-e277439a7dc7"
      },
      "source": [
        "!mv Research/GOPRO_Large\\ \\(1\\) Research/GOPRO_Large"
      ],
      "execution_count": 13,
      "outputs": [
        {
          "output_type": "stream",
          "name": "stdout",
          "text": [
            "mv: cannot stat 'Research/GOPRO_Large (1)': No such file or directory\n"
          ]
        }
      ]
    },
    {
      "cell_type": "code",
      "metadata": {
        "colab": {
          "base_uri": "https://localhost:8080/"
        },
        "id": "pQRZqOFnrqpl",
        "outputId": "bff99316-78e0-4ace-c2e3-aa11bf328432"
      },
      "source": [
        "!python src/main.py --save_dir GOPRO_L1 --demo true --demo_input_dir /content/drive/MyDrive/Ampviv/deblur/nah/DeepDeblur-PyTorch-master/dataset/GOPRO_Large/test/GOPR0384_11_00/blur_gamma"
      ],
      "execution_count": 14,
      "outputs": [
        {
          "output_type": "stream",
          "name": "stdout",
          "text": [
            "/usr/local/lib/python3.7/dist-packages/torch/utils/data/dataloader.py:481: UserWarning: This DataLoader will create 7 worker processes in total. Our suggested max number of worker in current system is 2, which is smaller than what this DataLoader is going to create. Please be aware that excessive worker creation might get DataLoader running slow or even freeze, lower the worker number to avoid potential slowness/freeze if necessary.\n",
            "  cpuset_checked))\n",
            "===> Loading demo dataset: Demo\n",
            "Loading model from ../experiment/GOPRO_L1/models/model-1000.pt\n",
            "Loading optimizer from ../experiment/GOPRO_L1/optim/optim-1000.pt\n",
            "Loss function: 1*L1\n",
            "Metrics: PSNR,SSIM\n",
            "Loading loss record from ../experiment/GOPRO_L1/loss.pt\n",
            "===> Initializing trainer\n",
            "results are saved in ../experiment/GOPRO_L1/result\n",
            "|                                                         | 0/0 [00:00<?, ?it/s]\n",
            "Traceback (most recent call last):\n",
            "  File \"src/main.py\", line 67, in <module>\n",
            "    main()\n",
            "  File \"src/main.py\", line 64, in main\n",
            "    main_worker(args.rank, args)\n",
            "  File \"src/main.py\", line 29, in main_worker\n",
            "    trainer.evaluate(epoch=args.start_epoch, mode='demo')\n",
            "  File \"/content/gdrive/Shareddrives/CV_project/DeepDeblur-PyTorch-master/src/train.py\", line 182, in evaluate\n",
            "    tq.set_description(self.criterion.get_loss_desc())\n",
            "  File \"/content/gdrive/Shareddrives/CV_project/DeepDeblur-PyTorch-master/src/loss/__init__.py\", line 311, in get_loss_desc\n",
            "    loss = self.loss_stat[self.mode]['Total'][self.epoch]\n",
            "KeyError: 1001\n"
          ]
        }
      ]
    }
  ]
}